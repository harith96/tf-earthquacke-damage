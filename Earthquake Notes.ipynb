{
 "cells": [
  {
   "cell_type": "markdown",
   "metadata": {},
   "source": [
    "# Notes\n",
    "\n",
    "## Data Preprocessing\n",
    "\n",
    "### 1.  One hot encoding\n",
    "\n",
    ">Library : Pandas\n",
    "\n",
    ">Categorical Columns (8 => 38) :  \n",
    "\n",
    ">land_surface_condition  \n",
    ">foundation_type  \n",
    ">roof_type  \n",
    ">ground_floor_type  \n",
    ">other_floor_type  \n",
    ">position  \n",
    ">plan_configuration  \n",
    ">legal_ownership_status  \n",
    "\n",
    "### 2.  Feature scaling\n",
    "\n",
    ">Library : Sklearn\n",
    ">Scaler : MinMaxScaler\n",
    "\n",
    "### 3.  Class imbalance problem - SMOTE\n",
    "### 4.  Train test data split\n",
    "\n",
    ">Train Data Precentage : 0.8  \n",
    ">Train Test Data Size : 2048\n",
    "\n",
    "### 5.  Convert dataframes to tensorflow datasets"
   ]
  },
  {
   "cell_type": "markdown",
   "metadata": {},
   "source": [
    "##  MODEL\n",
    "\n",
    "### 1. Layers\n",
    "\n",
    ">Layer Count : 3  \n",
    "\n",
    ">Layer 1 : type = Dense #_of_node = 69 (#_features) activation = tanh  \n",
    ">Layer 2 : type = Dense #_of_node = 35 (mean_of_#_inputs_and_outputs) activation = relu  \n",
    ">Layer 3 : type = Dense #_of_node = 68 (#_labels) activation = softmax  \n",
    "\n",
    "### 2. Model Configurations\n",
    "\n",
    ">Optimizer : adam  \n",
    ">Loss Function : sparse_categorical_crossentropy  \n",
    ">Metrics : acuracy"
   ]
  },
  {
   "cell_type": "code",
   "execution_count": null,
   "metadata": {},
   "outputs": [],
   "source": []
  }
 ],
 "metadata": {
  "kernelspec": {
   "display_name": "Python 3",
   "language": "python",
   "name": "python3"
  },
  "language_info": {
   "codemirror_mode": {
    "name": "ipython",
    "version": 3
   },
   "file_extension": ".py",
   "mimetype": "text/x-python",
   "name": "python",
   "nbconvert_exporter": "python",
   "pygments_lexer": "ipython3",
   "version": "3.6.8"
  }
 },
 "nbformat": 4,
 "nbformat_minor": 2
}
